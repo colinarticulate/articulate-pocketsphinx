{
 "cells": [
  {
   "cell_type": "code",
   "execution_count": 17,
   "id": "59004a64",
   "metadata": {},
   "outputs": [],
   "source": [
    "import os\n",
    "import shutil"
   ]
  },
  {
   "cell_type": "code",
   "execution_count": 2,
   "id": "eed62534",
   "metadata": {},
   "outputs": [],
   "source": [
    "path = \"new_version\""
   ]
  },
  {
   "cell_type": "code",
   "execution_count": 5,
   "id": "b63031fd",
   "metadata": {},
   "outputs": [],
   "source": [
    "list_of_files = {}\n",
    "for (dirpath, dirnames, filenames) in os.walk(path):\n",
    "    for filename in filenames:\n",
    "        list_of_files[filename] = os.sep.join([dirpath, filename])"
   ]
  },
  {
   "cell_type": "code",
   "execution_count": 6,
   "id": "76d181ac",
   "metadata": {},
   "outputs": [
    {
     "data": {
      "text/plain": [
       "{'pocketsphinx.c': 'new_version/pocketsphinx/src/libpocketsphinx/pocketsphinx.c',\n",
       " 'pocketsphinx.h': 'new_version/pocketsphinx/include/pocketsphinx.h',\n",
       " 'jsgf.c': 'new_version/sphinxbase/src/libsphinxbase/lm/jsgf.c',\n",
       " 'jsgf_parser.h': 'new_version/sphinxbase/src/libsphinxbase/lm/jsgf_parser.h',\n",
       " 'jsgf_parser.c': 'new_version/sphinxbase/src/libsphinxbase/lm/jsgf_parser.c',\n",
       " 'jsgf.h': 'new_version/sphinxbase/include/sphinxbase/jsgf.h'}"
      ]
     },
     "execution_count": 6,
     "metadata": {},
     "output_type": "execute_result"
    }
   ],
   "source": [
    "list_of_files"
   ]
  },
  {
   "cell_type": "code",
   "execution_count": 19,
   "id": "ca39b173",
   "metadata": {},
   "outputs": [
    {
     "name": "stdout",
     "output_type": "stream",
     "text": [
      "replacing: new_version/pocketsphinx/src/libpocketsphinx/pocketsphinx.c ---> ../pocketsphinx/src/libpocketsphinx/pocketsphinx.c\n",
      "replacing: new_version/pocketsphinx/include/pocketsphinx.h ---> ../pocketsphinx/include/pocketsphinx.h\n",
      "replacing: new_version/sphinxbase/src/libsphinxbase/lm/jsgf.c ---> ../sphinxbase/src/libsphinxbase/lm/jsgf.c\n",
      "replacing: new_version/sphinxbase/src/libsphinxbase/lm/jsgf_parser.h ---> ../sphinxbase/src/libsphinxbase/lm/jsgf_parser.h\n",
      "replacing: new_version/sphinxbase/src/libsphinxbase/lm/jsgf_parser.c ---> ../sphinxbase/src/libsphinxbase/lm/jsgf_parser.c\n",
      "replacing: new_version/sphinxbase/include/sphinxbase/jsgf.h ---> ../sphinxbase/include/sphinxbase/jsgf.h\n"
     ]
    }
   ],
   "source": [
    "for file in list(list_of_files.keys()):\n",
    "    src = list_of_files[file]\n",
    "    dst = os.path.join(\"../\",*list_of_files[file].split(\"/\")[1:])\n",
    "    \n",
    "    os\n",
    "    shutil.copy(src, dst)\n",
    "    print(f\"replacing: {src} ---> {dst}\")"
   ]
  },
  {
   "cell_type": "code",
   "execution_count": null,
   "id": "e24c127c",
   "metadata": {},
   "outputs": [],
   "source": [
    "def add_src_code_modifications(path):\n",
    "    \n",
    "    list_of_files = {}\n",
    "    for (dirpath, dirnames, filenames) in os.walk(path):\n",
    "        for filename in filenames:\n",
    "            list_of_files[filename] = os.sep.join([dirpath, filename])\n",
    "            \n",
    "    print(\"Adding changes in source code ...\")\n",
    "    for file in list(list_of_files.keys()):\n",
    "        src = list_of_files[file]\n",
    "        dst = os.path.join(\"../\",*list_of_files[file].split(\"/\")[1:])\n",
    "\n",
    "        shutil.copy(src, dst)\n",
    "        print(f\"replacing: {src} ---> {dst}\")\n",
    "        \n",
    "    print(\"Source code changes finished.\")\n",
    "        "
   ]
  }
 ],
 "metadata": {
  "kernelspec": {
   "display_name": "Python [conda env:root] *",
   "language": "python",
   "name": "conda-root-py"
  },
  "language_info": {
   "codemirror_mode": {
    "name": "ipython",
    "version": 3
   },
   "file_extension": ".py",
   "mimetype": "text/x-python",
   "name": "python",
   "nbconvert_exporter": "python",
   "pygments_lexer": "ipython3",
   "version": "3.9.5"
  }
 },
 "nbformat": 4,
 "nbformat_minor": 5
}
